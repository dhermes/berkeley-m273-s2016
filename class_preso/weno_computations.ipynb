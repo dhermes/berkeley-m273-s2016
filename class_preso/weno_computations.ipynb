{
 "cells": [
  {
   "cell_type": "code",
   "execution_count": 1,
   "metadata": {
    "collapsed": false
   },
   "outputs": [],
   "source": [
    "%matplotlib inline\n",
    "\n",
    "from IPython import display\n",
    "import seaborn\n",
    "import sympy\n",
    "\n",
    "import weno_computations\n",
    "\n",
    "seaborn.set_palette('husl')"
   ]
  },
  {
   "cell_type": "markdown",
   "metadata": {},
   "source": [
    "On an evenly spaced grid $x_j = j \\Delta x$, $u(x_{j}) = u_{j}$.\n",
    "\n",
    "**GOAL**: Approximate $u\\left(x_{j + \\frac{1}{2}}\\right)$ (third and fifth order, using $x_{j-2}, x_{j-1}, x_j, x_{j+1}, x_{j+2}$)."
   ]
  },
  {
   "cell_type": "code",
   "execution_count": 2,
   "metadata": {
    "collapsed": false
   },
   "outputs": [],
   "source": [
    "approx_minus2, approx_minus1, approx_0 = weno_computations.interp_three_points()"
   ]
  },
  {
   "cell_type": "code",
   "execution_count": 3,
   "metadata": {
    "collapsed": false
   },
   "outputs": [
    {
     "data": {
      "text/latex": [
       "$$u^{{(1)}}_{{j + \\frac{1}{2}}} = - \\frac{5 u_{{j-1}}}{4} + \\frac{3 u_{{j-2}}}{8} + \\frac{15 u_{{j}}}{8}$$"
      ],
      "text/plain": [
       "<IPython.core.display.Math object>"
      ]
     },
     "metadata": {},
     "output_type": "display_data"
    },
    {
     "data": {
      "text/latex": [
       "$$u^{{(2)}}_{{j + \\frac{1}{2}}} = \\frac{3 u_{{j+1}}}{8} - \\frac{u_{{j-1}}}{8} + \\frac{3 u_{{j}}}{4}$$"
      ],
      "text/plain": [
       "<IPython.core.display.Math object>"
      ]
     },
     "metadata": {},
     "output_type": "display_data"
    },
    {
     "data": {
      "text/latex": [
       "$$u^{{(3)}}_{{j + \\frac{1}{2}}} = \\frac{3 u_{{j+1}}}{4} - \\frac{u_{{j+2}}}{8} + \\frac{3 u_{{j}}}{8}$$"
      ],
      "text/plain": [
       "<IPython.core.display.Math object>"
      ]
     },
     "metadata": {},
     "output_type": "display_data"
    }
   ],
   "source": [
    "display.display(display.Math(sympy.latex(approx_minus2)))\n",
    "display.display(display.Math(sympy.latex(approx_minus1)))\n",
    "display.display(display.Math(sympy.latex(approx_0)))"
   ]
  }
 ],
 "metadata": {
  "kernelspec": {
   "display_name": "Python 2",
   "language": "python",
   "name": "python2"
  },
  "language_info": {
   "codemirror_mode": {
    "name": "ipython",
    "version": 2
   },
   "file_extension": ".py",
   "mimetype": "text/x-python",
   "name": "python",
   "nbconvert_exporter": "python",
   "pygments_lexer": "ipython2",
   "version": "2.7.6"
  }
 },
 "nbformat": 4,
 "nbformat_minor": 0
}
