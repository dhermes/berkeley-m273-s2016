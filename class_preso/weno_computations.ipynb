{
 "cells": [
  {
   "cell_type": "code",
   "execution_count": 1,
   "metadata": {
    "collapsed": false
   },
   "outputs": [],
   "source": [
    "%matplotlib inline\n",
    "\n",
    "from IPython import display\n",
    "import seaborn\n",
    "import sympy\n",
    "\n",
    "import weno_computations\n",
    "\n",
    "seaborn.set_palette('husl')"
   ]
  },
  {
   "cell_type": "markdown",
   "metadata": {},
   "source": [
    "On an evenly spaced grid $x_j = j \\Delta x$, $u(x_{j}) = u_{j}$.\n",
    "\n",
    "**GOAL**: Approximate $u\\left(x_{j + \\frac{1}{2}}\\right)$ (third and fifth order, using $x_{j-2}, x_{j-1}, x_j, x_{j+1}, x_{j+2}$)."
   ]
  },
  {
   "cell_type": "code",
   "execution_count": 2,
   "metadata": {
    "collapsed": false
   },
   "outputs": [],
   "source": [
    "(approx_minus2, approx_minus1, \n",
    " approx_zero, approx_all) = weno_computations.interp_simple_stencils()"
   ]
  },
  {
   "cell_type": "code",
   "execution_count": 3,
   "metadata": {
    "collapsed": false
   },
   "outputs": [
    {
     "data": {
      "text/latex": [
       "$$u^{{(1)}}_{{j + \\frac{1}{2}}} = \\frac{3 u_{j-2}}{8} - \\frac{5 u_{j-1}}{4} + \\frac{15 u_{j}}{8}$$"
      ],
      "text/plain": [
       "<IPython.core.display.Math object>"
      ]
     },
     "metadata": {},
     "output_type": "display_data"
    },
    {
     "data": {
      "text/latex": [
       "$$u^{{(2)}}_{{j + \\frac{1}{2}}} = - \\frac{u_{j-1}}{8} + \\frac{3 u_{j}}{4} + \\frac{3 u_{j+1}}{8}$$"
      ],
      "text/plain": [
       "<IPython.core.display.Math object>"
      ]
     },
     "metadata": {},
     "output_type": "display_data"
    },
    {
     "data": {
      "text/latex": [
       "$$u^{{(3)}}_{{j + \\frac{1}{2}}} = \\frac{3 u_{j}}{8} + \\frac{3 u_{j+1}}{4} - \\frac{u_{j+2}}{8}$$"
      ],
      "text/plain": [
       "<IPython.core.display.Math object>"
      ]
     },
     "metadata": {},
     "output_type": "display_data"
    },
    {
     "data": {
      "text/latex": [
       "$$u_{{j + \\frac{1}{2}}} = \\frac{3 u_{j-2}}{128} - \\frac{5 u_{j-1}}{32} + \\frac{45 u_{j}}{64} + \\frac{15 u_{j+1}}{32} - \\frac{5 u_{j+2}}{128}$$"
      ],
      "text/plain": [
       "<IPython.core.display.Math object>"
      ]
     },
     "metadata": {},
     "output_type": "display_data"
    }
   ],
   "source": [
    "display.display(display.Math(approx_minus2))\n",
    "display.display(display.Math(approx_minus1))\n",
    "display.display(display.Math(approx_zero))\n",
    "display.display(display.Math(approx_all))"
   ]
  },
  {
   "cell_type": "markdown",
   "metadata": {},
   "source": [
    "The TVD-diminishing RK scheme\n",
    "\n",
    "$$\\begin{array}{c | c c c}\n",
    "  0 &     &     &   \\\\\n",
    "  1 &   1 &     &   \\\\\n",
    "1/2 & 1/4 & 1/4 &   \\\\\n",
    "\\hline\n",
    "    & 1/6 & 1/6 & 2/3\n",
    "\\end{array}$$\n",
    "\n",
    "when applied to a linear problem $u' = \\lambda u$ gives\n",
    "$$\\begin{align*}\n",
    "k_1 &= \\lambda u \\\\\n",
    "k_2 &= \\lambda \\left(u + \\Delta t k_1\\right) = \\left(\\lambda + \\lambda^2 \\Delta t\\right) u \\\\\n",
    "k_3 &= \\lambda \\left(u + \\frac{\\Delta t}{4} k_1 + \\frac{\\Delta t}{4} k_2\\right) =\n",
    "\\left(\\lambda + \\frac{\\lambda^2 \\Delta t}{2} + \\frac{\\lambda^3 (\\Delta t)^2}{4}\\right)u \\\\\n",
    "u^{\\text{new}} &= u + \\frac{\\Delta t}{6}\\left(k_1 + k_2 + 4 k_3\\right) =\n",
    "\\left(1 + z + \\frac{z}{2} + \\frac{z^3}{6}\\right)u\n",
    "\\end{align*}$$"
   ]
  },
  {
   "cell_type": "code",
   "execution_count": null,
   "metadata": {
    "collapsed": true
   },
   "outputs": [],
   "source": []
  }
 ],
 "metadata": {
  "kernelspec": {
   "display_name": "Python 2",
   "language": "python",
   "name": "python2"
  },
  "language_info": {
   "codemirror_mode": {
    "name": "ipython",
    "version": 2
   },
   "file_extension": ".py",
   "mimetype": "text/x-python",
   "name": "python",
   "nbconvert_exporter": "python",
   "pygments_lexer": "ipython2",
   "version": "2.7.6"
  }
 },
 "nbformat": 4,
 "nbformat_minor": 0
}
